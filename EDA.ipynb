{
 "cells": [
  {
   "cell_type": "code",
   "execution_count": 1,
   "id": "d344beed-c731-43ad-acbc-b9f7b75205fd",
   "metadata": {},
   "outputs": [],
   "source": [
    "import pandas as pd"
   ]
  },
  {
   "cell_type": "code",
   "execution_count": 2,
   "id": "269d00b9-ddf5-4bfa-9cc7-c2d3d100d31c",
   "metadata": {},
   "outputs": [],
   "source": [
    "train = pd.read_csv(\"train.csv\")\n",
    "test = pd.read_csv(\"test.csv\")\n",
    "ss = pd.read_csv(\"sample_submission.csv\")"
   ]
  },
  {
   "cell_type": "code",
   "execution_count": 3,
   "id": "bf6bed61-71be-46be-b567-56a2fb9ccb7c",
   "metadata": {},
   "outputs": [
    {
     "data": {
      "text/html": [
       "<div>\n",
       "<style scoped>\n",
       "    .dataframe tbody tr th:only-of-type {\n",
       "        vertical-align: middle;\n",
       "    }\n",
       "\n",
       "    .dataframe tbody tr th {\n",
       "        vertical-align: top;\n",
       "    }\n",
       "\n",
       "    .dataframe thead th {\n",
       "        text-align: right;\n",
       "    }\n",
       "</style>\n",
       "<table border=\"1\" class=\"dataframe\">\n",
       "  <thead>\n",
       "    <tr style=\"text-align: right;\">\n",
       "      <th></th>\n",
       "      <th>oid</th>\n",
       "      <th>category</th>\n",
       "      <th>text</th>\n",
       "    </tr>\n",
       "  </thead>\n",
       "  <tbody>\n",
       "    <tr>\n",
       "      <th>0</th>\n",
       "      <td>365271984</td>\n",
       "      <td>winter_sport</td>\n",
       "      <td>Волшебные фото Виктория Поплавская ЕвгенияМедв...</td>\n",
       "    </tr>\n",
       "    <tr>\n",
       "      <th>1</th>\n",
       "      <td>503385563</td>\n",
       "      <td>extreme</td>\n",
       "      <td>Возвращение в подземелье Треша 33 Эйфория тупо...</td>\n",
       "    </tr>\n",
       "    <tr>\n",
       "      <th>2</th>\n",
       "      <td>146016084</td>\n",
       "      <td>football</td>\n",
       "      <td>Лучшие чешские вратари – Доминик Доминатор Гаш...</td>\n",
       "    </tr>\n",
       "    <tr>\n",
       "      <th>3</th>\n",
       "      <td>933865449</td>\n",
       "      <td>boardgames</td>\n",
       "      <td>Rtokenoid Warhammer40k валрак решил нас подкор...</td>\n",
       "    </tr>\n",
       "    <tr>\n",
       "      <th>4</th>\n",
       "      <td>713550145</td>\n",
       "      <td>hockey</td>\n",
       "      <td>Шестеркин затаскивает Рейнджерс в финал Восточ...</td>\n",
       "    </tr>\n",
       "  </tbody>\n",
       "</table>\n",
       "</div>"
      ],
      "text/plain": [
       "         oid      category                                               text\n",
       "0  365271984  winter_sport  Волшебные фото Виктория Поплавская ЕвгенияМедв...\n",
       "1  503385563       extreme  Возвращение в подземелье Треша 33 Эйфория тупо...\n",
       "2  146016084      football  Лучшие чешские вратари – Доминик Доминатор Гаш...\n",
       "3  933865449    boardgames  Rtokenoid Warhammer40k валрак решил нас подкор...\n",
       "4  713550145        hockey  Шестеркин затаскивает Рейнджерс в финал Восточ..."
      ]
     },
     "execution_count": 3,
     "metadata": {},
     "output_type": "execute_result"
    }
   ],
   "source": [
    "train.head()"
   ]
  },
  {
   "cell_type": "code",
   "execution_count": 4,
   "id": "4751600d-1815-4e70-a431-6d7702aa7544",
   "metadata": {},
   "outputs": [
    {
     "data": {
      "text/plain": [
       "array(['winter_sport', 'extreme', 'football', 'boardgames', 'hockey',\n",
       "       'esport', 'athletics', 'motosport', 'basketball', 'tennis',\n",
       "       'autosport', 'martial_arts', 'volleyball'], dtype=object)"
      ]
     },
     "execution_count": 4,
     "metadata": {},
     "output_type": "execute_result"
    }
   ],
   "source": [
    "train.category.unique()"
   ]
  },
  {
   "cell_type": "code",
   "execution_count": 5,
   "id": "f978a952-9904-4207-b21a-89304c721cec",
   "metadata": {},
   "outputs": [
    {
     "data": {
      "text/html": [
       "<div>\n",
       "<style scoped>\n",
       "    .dataframe tbody tr th:only-of-type {\n",
       "        vertical-align: middle;\n",
       "    }\n",
       "\n",
       "    .dataframe tbody tr th {\n",
       "        vertical-align: top;\n",
       "    }\n",
       "\n",
       "    .dataframe thead th {\n",
       "        text-align: right;\n",
       "    }\n",
       "</style>\n",
       "<table border=\"1\" class=\"dataframe\">\n",
       "  <thead>\n",
       "    <tr style=\"text-align: right;\">\n",
       "      <th></th>\n",
       "      <th>oid</th>\n",
       "      <th>text</th>\n",
       "    </tr>\n",
       "  </thead>\n",
       "  <tbody>\n",
       "    <tr>\n",
       "      <th>0</th>\n",
       "      <td>749208109</td>\n",
       "      <td>СПОЧНО СООБЩЕСТВО ПРОДАЕТСЯ ЗА 1300Р ЗА ПОКУПК...</td>\n",
       "    </tr>\n",
       "    <tr>\n",
       "      <th>1</th>\n",
       "      <td>452466036</td>\n",
       "      <td>Естественное восстановление после тяжелой трен...</td>\n",
       "    </tr>\n",
       "    <tr>\n",
       "      <th>2</th>\n",
       "      <td>161038103</td>\n",
       "      <td>Тема нарядов продолжается Одна из британских ж...</td>\n",
       "    </tr>\n",
       "    <tr>\n",
       "      <th>3</th>\n",
       "      <td>663621910</td>\n",
       "      <td>Привет Избранный. Ты спрашиваешь себя ЧТО здес...</td>\n",
       "    </tr>\n",
       "    <tr>\n",
       "      <th>4</th>\n",
       "      <td>566255305</td>\n",
       "      <td>КОРОЛЬ ПЯТИСОТНИКОВ В ДЕЛЕ Андрей Рублев успеш...</td>\n",
       "    </tr>\n",
       "  </tbody>\n",
       "</table>\n",
       "</div>"
      ],
      "text/plain": [
       "         oid                                               text\n",
       "0  749208109  СПОЧНО СООБЩЕСТВО ПРОДАЕТСЯ ЗА 1300Р ЗА ПОКУПК...\n",
       "1  452466036  Естественное восстановление после тяжелой трен...\n",
       "2  161038103  Тема нарядов продолжается Одна из британских ж...\n",
       "3  663621910  Привет Избранный. Ты спрашиваешь себя ЧТО здес...\n",
       "4  566255305  КОРОЛЬ ПЯТИСОТНИКОВ В ДЕЛЕ Андрей Рублев успеш..."
      ]
     },
     "execution_count": 5,
     "metadata": {},
     "output_type": "execute_result"
    }
   ],
   "source": [
    "test.head()"
   ]
  },
  {
   "cell_type": "markdown",
   "id": "51e164f1-4c36-4bf5-8e25-6a87787558c8",
   "metadata": {},
   "source": [
    "### test and train oid intersection"
   ]
  },
  {
   "cell_type": "code",
   "execution_count": 6,
   "id": "4f784c90-a309-44e3-93b3-60e87e1a82b0",
   "metadata": {},
   "outputs": [],
   "source": [
    "# oid intersection: []\n",
    "def intersection(lst1, lst2):\n",
    "    lst3 = [value for value in lst1 if value in lst2]\n",
    "    return lst3\n",
    "\n",
    "print(intersection(train.oid.tolist(), test.oid.tolist()))"
   ]
  },
  {
   "cell_type": "markdown",
   "id": "34ec6878-448c-4134-b968-73e9e5504125",
   "metadata": {},
   "source": [
    "### drop text with different labels"
   ]
  },
  {
   "cell_type": "code",
   "execution_count": 7,
   "id": "75f6862d-581f-48ca-8572-127f26b73bf1",
   "metadata": {},
   "outputs": [
    {
     "data": {
      "text/html": [
       "<div>\n",
       "<style scoped>\n",
       "    .dataframe tbody tr th:only-of-type {\n",
       "        vertical-align: middle;\n",
       "    }\n",
       "\n",
       "    .dataframe tbody tr th {\n",
       "        vertical-align: top;\n",
       "    }\n",
       "\n",
       "    .dataframe thead th {\n",
       "        text-align: right;\n",
       "    }\n",
       "</style>\n",
       "<table border=\"1\" class=\"dataframe\">\n",
       "  <thead>\n",
       "    <tr style=\"text-align: right;\">\n",
       "      <th></th>\n",
       "      <th>text</th>\n",
       "      <th>oid</th>\n",
       "      <th>category</th>\n",
       "      <th>counts</th>\n",
       "    </tr>\n",
       "  </thead>\n",
       "  <tbody>\n",
       "    <tr>\n",
       "      <th>0</th>\n",
       "      <td>30 дней Okko бесплатно 33 Подключайтесь и смот...</td>\n",
       "      <td>[410518766, 749181195]</td>\n",
       "      <td>[hockey, martial_arts]</td>\n",
       "      <td>2</td>\n",
       "    </tr>\n",
       "    <tr>\n",
       "      <th>1</th>\n",
       "      <td>60 дней Плюса Мульти в подарок по промокоду MY...</td>\n",
       "      <td>[457739190, 200619851, 863906059, 910250450]</td>\n",
       "      <td>[volleyball, basketball, esport, volleyball]</td>\n",
       "      <td>3</td>\n",
       "    </tr>\n",
       "    <tr>\n",
       "      <th>2</th>\n",
       "      <td>60 дней Плюса Мульти в подарок по промокоду MY...</td>\n",
       "      <td>[363941572, 609061254, 587012161, 821548675, 5...</td>\n",
       "      <td>[football, martial_arts, football, athletics, ...</td>\n",
       "      <td>4</td>\n",
       "    </tr>\n",
       "    <tr>\n",
       "      <th>3</th>\n",
       "      <td>Python и Java изучаем языки программирования н...</td>\n",
       "      <td>[193884872, 805730295]</td>\n",
       "      <td>[football, martial_arts]</td>\n",
       "      <td>2</td>\n",
       "    </tr>\n",
       "    <tr>\n",
       "      <th>4</th>\n",
       "      <td>Админ здравствуйте. Пропустите или нет – не зн...</td>\n",
       "      <td>[123162769, 460666149, 864379998]</td>\n",
       "      <td>[extreme, esport, extreme]</td>\n",
       "      <td>2</td>\n",
       "    </tr>\n",
       "  </tbody>\n",
       "</table>\n",
       "</div>"
      ],
      "text/plain": [
       "                                                text  \\\n",
       "0  30 дней Okko бесплатно 33 Подключайтесь и смот...   \n",
       "1  60 дней Плюса Мульти в подарок по промокоду MY...   \n",
       "2  60 дней Плюса Мульти в подарок по промокоду MY...   \n",
       "3  Python и Java изучаем языки программирования н...   \n",
       "4  Админ здравствуйте. Пропустите или нет – не зн...   \n",
       "\n",
       "                                                 oid  \\\n",
       "0                             [410518766, 749181195]   \n",
       "1       [457739190, 200619851, 863906059, 910250450]   \n",
       "2  [363941572, 609061254, 587012161, 821548675, 5...   \n",
       "3                             [193884872, 805730295]   \n",
       "4                  [123162769, 460666149, 864379998]   \n",
       "\n",
       "                                            category  counts  \n",
       "0                             [hockey, martial_arts]       2  \n",
       "1       [volleyball, basketball, esport, volleyball]       3  \n",
       "2  [football, martial_arts, football, athletics, ...       4  \n",
       "3                           [football, martial_arts]       2  \n",
       "4                         [extreme, esport, extreme]       2  "
      ]
     },
     "execution_count": 7,
     "metadata": {},
     "output_type": "execute_result"
    }
   ],
   "source": [
    "# text with different labels\n",
    "tmp = train[[\"oid\", \"text\", \"category\"]].groupby(\"text\").agg(list)\n",
    "tmp[\"counts\"] = tmp.category.apply(lambda x: len(set(x)))\n",
    "tmp = tmp[tmp.counts >= 2].reset_index()\n",
    "noise_text = set(tmp.text.tolist())\n",
    "tmp.head()"
   ]
  },
  {
   "cell_type": "code",
   "execution_count": 8,
   "id": "53f0e086-2452-4555-b2ef-a20a55b6d927",
   "metadata": {},
   "outputs": [
    {
     "name": "stdout",
     "output_type": "stream",
     "text": [
      "Count unique oid in train:  3874\n",
      "Count noisy rows in train:  489\n",
      "Count unique oid in train without noise text:  3874\n"
     ]
    }
   ],
   "source": [
    "print(\"Count unique oid in train: \", train.oid.nunique())\n",
    "# remove noise text from train\n",
    "tmp_train = train[~train.text.isin(noise_text)]\n",
    "print(\"Count noisy rows in train: \", len(train) - len(tmp_train))\n",
    "print(\"Count unique oid in train without noise text: \", train.oid.nunique())"
   ]
  },
  {
   "cell_type": "code",
   "execution_count": 9,
   "id": "a7b7a8dd-c965-44bb-8142-6576c0dbce49",
   "metadata": {},
   "outputs": [
    {
     "name": "stdout",
     "output_type": "stream",
     "text": [
      "Count unique oid in train:  2626\n",
      "Count noisy rows in test:  162\n",
      "Count unique oid in train without noise text:  2626\n"
     ]
    }
   ],
   "source": [
    "print(\"Count unique oid in train: \", test.oid.nunique())\n",
    "# remove noise text from test\n",
    "tmp_test = test[~test.text.isin(noise_text)]\n",
    "print(\"Count noisy rows in test: \", len(test) - len(tmp_test))\n",
    "print(\"Count unique oid in train without noise text: \", test.oid.nunique())"
   ]
  },
  {
   "cell_type": "markdown",
   "id": "25a6613a-903f-447c-abb7-5ad75172b2a0",
   "metadata": {},
   "source": [
    "### datasets with unique texts"
   ]
  },
  {
   "cell_type": "code",
   "execution_count": 10,
   "id": "9d72c26e-d4be-40d7-ab61-cf2dc61b8416",
   "metadata": {},
   "outputs": [
    {
     "name": "stdout",
     "output_type": "stream",
     "text": [
      "(38251, 3)\n",
      "(35631, 3)\n"
     ]
    }
   ],
   "source": [
    "print(tmp_train.shape)\n",
    "tmp_train = tmp_train.drop_duplicates(subset=['text'])\n",
    "print(tmp_train.shape)"
   ]
  },
  {
   "cell_type": "code",
   "execution_count": 11,
   "id": "7cb3132a-82c6-492e-a48f-1394e8dc41ad",
   "metadata": {},
   "outputs": [
    {
     "name": "stdout",
     "output_type": "stream",
     "text": [
      "(26098, 2)\n",
      "(25893, 2)\n"
     ]
    }
   ],
   "source": [
    "print(tmp_test.shape)\n",
    "tmp_test = tmp_test.drop_duplicates(subset=['oid', 'text'])\n",
    "print(tmp_test.shape)"
   ]
  },
  {
   "cell_type": "code",
   "execution_count": 12,
   "id": "fb1c2d4e-cab9-4bf9-b89b-bae6710b3d04",
   "metadata": {},
   "outputs": [
    {
     "name": "stdout",
     "output_type": "stream",
     "text": [
      "Count unique oid in train without duplicates:  3874\n",
      "Count unique oid in test without duplicates:  2626\n"
     ]
    }
   ],
   "source": [
    "print(\"Count unique oid in train without duplicates: \", tmp_train.oid.nunique())\n",
    "print(\"Count unique oid in test without duplicates: \", tmp_test.oid.nunique())"
   ]
  },
  {
   "cell_type": "markdown",
   "id": "607b69dc-dcb3-4516-84a1-dd72eef46d35",
   "metadata": {},
   "source": [
    "### new target distribution"
   ]
  },
  {
   "cell_type": "code",
   "execution_count": 14,
   "id": "5f5057ff-4355-43be-abaf-50912e11d30a",
   "metadata": {},
   "outputs": [
    {
     "data": {
      "text/plain": [
       "autosport       0.084393\n",
       "tennis          0.082148\n",
       "hockey          0.080969\n",
       "martial_arts    0.080155\n",
       "football        0.077769\n",
       "volleyball      0.077685\n",
       "extreme         0.076899\n",
       "winter_sport    0.076450\n",
       "motosport       0.076310\n",
       "esport          0.075440\n",
       "athletics       0.072465\n",
       "boardgames      0.070557\n",
       "basketball      0.068760\n",
       "Name: category, dtype: float64"
      ]
     },
     "execution_count": 14,
     "metadata": {},
     "output_type": "execute_result"
    }
   ],
   "source": [
    "tmp_train.category.value_counts(normalize=True)"
   ]
  },
  {
   "cell_type": "code",
   "execution_count": null,
   "id": "f81ca37d-6be0-44aa-aa26-30ba911f1cc4",
   "metadata": {},
   "outputs": [],
   "source": []
  }
 ],
 "metadata": {
  "kernelspec": {
   "display_name": "Python 3",
   "language": "python",
   "name": "python3"
  },
  "language_info": {
   "codemirror_mode": {
    "name": "ipython",
    "version": 3
   },
   "file_extension": ".py",
   "mimetype": "text/x-python",
   "name": "python",
   "nbconvert_exporter": "python",
   "pygments_lexer": "ipython3",
   "version": "3.8.10"
  }
 },
 "nbformat": 4,
 "nbformat_minor": 5
}
